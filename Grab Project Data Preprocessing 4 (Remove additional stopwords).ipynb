{
 "cells": [
  {
   "cell_type": "code",
   "execution_count": 1,
   "id": "08e2d79f",
   "metadata": {},
   "outputs": [],
   "source": [
    "import pandas as pd\n",
    "import nltk\n",
    "from nltk.corpus import stopwords"
   ]
  },
  {
   "cell_type": "code",
   "execution_count": 2,
   "id": "ea6e0717",
   "metadata": {},
   "outputs": [],
   "source": [
    "df = pd.read_csv('GRAB_REVIEWS_CLEANED.csv')"
   ]
  },
  {
   "cell_type": "code",
   "execution_count": 3,
   "id": "bf879e58",
   "metadata": {},
   "outputs": [],
   "source": [
    "stop_list = stopwords.words('english')\n",
    "additional_stopwords = [\"app\", \"apps\", \"application\", \"thanks\", \"thank\", \"thankyou\", \"try\", \"way\", \"love\", \"use\", \"people\", \"kudos\", \"grab\", \"get\", \"gets\", \"please\", \"need\", \"stupid\", \"work\", \"keeps\", \"keep\", \"goin\", \"toucjh\", \"works\", \"grab\", \"guys\", \"job\", \"apk\", \"manila\", \"la\", \"viet\", \"nam\", \"n\", \"thumba\", \"aplikasi\", \"idiots\", \"want\", \"lots\", \"mga\", \"manong\", \"v\", \"kuya\", \"pls\", \"bangkokian\", \"pukima\", \"veru\", \"osam\", \"naru\", \"naro\", \"baru\", \"mj\", \"idea\", \"help\",]\n",
    "stop_list = stop_list + additional_stopwords"
   ]
  },
  {
   "cell_type": "code",
   "execution_count": 4,
   "id": "460d44c5",
   "metadata": {},
   "outputs": [],
   "source": [
    "df['translated_review_stopremoved'] = df['translated_review_stopremoved'].apply(\n",
    "    lambda x: ' '.join([word for word in x.split() if word not in stop_list])\n",
    ")"
   ]
  },
  {
   "cell_type": "code",
   "execution_count": 5,
   "id": "2fd36250",
   "metadata": {},
   "outputs": [],
   "source": [
    "df.to_csv('GRAB_REVIEWS_CLEANED.csv')"
   ]
  }
 ],
 "metadata": {
  "kernelspec": {
   "display_name": "Python 3",
   "language": "python",
   "name": "python3"
  },
  "language_info": {
   "codemirror_mode": {
    "name": "ipython",
    "version": 3
   },
   "file_extension": ".py",
   "mimetype": "text/x-python",
   "name": "python",
   "nbconvert_exporter": "python",
   "pygments_lexer": "ipython3",
   "version": "3.8.8"
  }
 },
 "nbformat": 4,
 "nbformat_minor": 5
}
